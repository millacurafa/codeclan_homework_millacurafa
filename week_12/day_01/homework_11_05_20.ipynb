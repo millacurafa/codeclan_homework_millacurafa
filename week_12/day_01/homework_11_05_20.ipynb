{
 "cells": [
  {
   "cell_type": "markdown",
   "metadata": {},
   "source": [
    "### 1.1 Finish what you start…\n",
    "\n",
    "Write a function that takes in a list and returns a two-element list containing the first and last elements of the inputted list. For example, for input [3, 6, 2,  19], the function should return [3, 19]\n"
   ]
  },
  {
   "cell_type": "code",
   "execution_count": 10,
   "metadata": {},
   "outputs": [
    {
     "data": {
      "text/plain": [
       "(3, 19)"
      ]
     },
     "execution_count": 10,
     "metadata": {},
     "output_type": "execute_result"
    }
   ],
   "source": [
    "numbers = [3, 6, 2, 19]\n",
    "\n",
    "def two_element(list):\n",
    "    new_list = list[0], list[-1]\n",
    "    return new_list\n",
    "\n",
    "two_element(numbers)"
   ]
  },
  {
   "cell_type": "markdown",
   "metadata": {},
   "source": [
    "### 1.2 Your letters are numbered\n",
    "\n",
    "Write a function that takes in a sentence and returns a dictionary containing a count of letters and digits. For example, for input \"hello world! 123\", the function output should be {'digits': 3, 'letters': 10}\n"
   ]
  },
  {
   "cell_type": "code",
   "execution_count": 48,
   "metadata": {},
   "outputs": [
    {
     "data": {
      "text/plain": [
       "{'digits': 3, 'letters': 11}"
      ]
     },
     "execution_count": 48,
     "metadata": {},
     "output_type": "execute_result"
    }
   ],
   "source": [
    "sentence = \"hello world! 123\"\n",
    "\n",
    "new_dict = {\n",
    "                \"digits\" : 0,\n",
    "                \"letters\": 0\n",
    "            }\n",
    "\n",
    "\n",
    "\n",
    "def extract(i):\n",
    "    for j in i.split():\n",
    "        \n",
    "        if j.isdigit():\n",
    "            \n",
    "            new_dict[\"digits\"] = new_dict[\"digits\"] + len(j)\n",
    "        \n",
    "        else: \n",
    "            new_dict[\"letters\"] = new_dict[\"letters\"] + len(j)\n",
    "           \n",
    "    \n",
    "    return new_dict\n",
    "    \n",
    "extract(sentence)"
   ]
  },
  {
   "cell_type": "code",
   "execution_count": null,
   "metadata": {},
   "outputs": [],
   "source": []
  }
 ],
 "metadata": {
  "kernelspec": {
   "display_name": "Python 3",
   "language": "python",
   "name": "python3"
  },
  "language_info": {
   "codemirror_mode": {
    "name": "ipython",
    "version": 3
   },
   "file_extension": ".py",
   "mimetype": "text/x-python",
   "name": "python",
   "nbconvert_exporter": "python",
   "pygments_lexer": "ipython3",
   "version": "3.7.4"
  }
 },
 "nbformat": 4,
 "nbformat_minor": 2
}
